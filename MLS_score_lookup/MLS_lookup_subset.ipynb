{
 "cells": [
  {
   "cell_type": "code",
   "execution_count": 1,
   "id": "ee0a7e3d-b953-4391-82f1-812ea85b32f7",
   "metadata": {},
   "outputs": [],
   "source": [
    "###Packages\n",
    "\n",
    "import pandas as pd"
   ]
  },
  {
   "cell_type": "code",
   "execution_count": 5,
   "id": "af2468dd-4d0c-423f-a37b-86e9508e3efa",
   "metadata": {},
   "outputs": [],
   "source": [
    "###Import files\n",
    "\n",
    "mls=pd.read_csv(\"MLS_score_lookup_table.csv\")\n",
    "apg=pd.read_csv(\"APOGEE_MITimpact_table_APOGEE2_Score_only.csv\")"
   ]
  },
  {
   "cell_type": "code",
   "execution_count": 8,
   "id": "0c324997-b5b3-4c05-836a-efc1da0bc122",
   "metadata": {},
   "outputs": [
    {
     "data": {
      "text/html": [
       "<div>\n",
       "<style scoped>\n",
       "    .dataframe tbody tr th:only-of-type {\n",
       "        vertical-align: middle;\n",
       "    }\n",
       "\n",
       "    .dataframe tbody tr th {\n",
       "        vertical-align: top;\n",
       "    }\n",
       "\n",
       "    .dataframe thead th {\n",
       "        text-align: right;\n",
       "    }\n",
       "</style>\n",
       "<table border=\"1\" class=\"dataframe\">\n",
       "  <thead>\n",
       "    <tr style=\"text-align: right;\">\n",
       "      <th></th>\n",
       "      <th>Position</th>\n",
       "      <th>Reference</th>\n",
       "      <th>Mutation</th>\n",
       "      <th>Consequence</th>\n",
       "      <th>Pathogenicity_Score</th>\n",
       "    </tr>\n",
       "  </thead>\n",
       "  <tbody>\n",
       "    <tr>\n",
       "      <th>0</th>\n",
       "      <td>1</td>\n",
       "      <td>G</td>\n",
       "      <td>T</td>\n",
       "      <td>intergenic_variant</td>\n",
       "      <td>0.65755</td>\n",
       "    </tr>\n",
       "    <tr>\n",
       "      <th>1</th>\n",
       "      <td>1</td>\n",
       "      <td>G</td>\n",
       "      <td>A</td>\n",
       "      <td>intergenic_variant</td>\n",
       "      <td>0.65755</td>\n",
       "    </tr>\n",
       "    <tr>\n",
       "      <th>2</th>\n",
       "      <td>1</td>\n",
       "      <td>G</td>\n",
       "      <td>C</td>\n",
       "      <td>intergenic_variant</td>\n",
       "      <td>0.65755</td>\n",
       "    </tr>\n",
       "    <tr>\n",
       "      <th>3</th>\n",
       "      <td>2</td>\n",
       "      <td>A</td>\n",
       "      <td>T</td>\n",
       "      <td>intergenic_variant</td>\n",
       "      <td>0.64832</td>\n",
       "    </tr>\n",
       "    <tr>\n",
       "      <th>4</th>\n",
       "      <td>2</td>\n",
       "      <td>A</td>\n",
       "      <td>C</td>\n",
       "      <td>intergenic_variant</td>\n",
       "      <td>0.64832</td>\n",
       "    </tr>\n",
       "  </tbody>\n",
       "</table>\n",
       "</div>"
      ],
      "text/plain": [
       "   Position Reference Mutation         Consequence  Pathogenicity_Score\n",
       "0         1         G        T  intergenic_variant              0.65755\n",
       "1         1         G        A  intergenic_variant              0.65755\n",
       "2         1         G        C  intergenic_variant              0.65755\n",
       "3         2         A        T  intergenic_variant              0.64832\n",
       "4         2         A        C  intergenic_variant              0.64832"
      ]
     },
     "execution_count": 8,
     "metadata": {},
     "output_type": "execute_result"
    }
   ],
   "source": [
    "mls.head()"
   ]
  },
  {
   "cell_type": "code",
   "execution_count": 9,
   "id": "732bfb45-c7af-4b04-b7d8-b656891c199c",
   "metadata": {},
   "outputs": [
    {
     "data": {
      "text/html": [
       "<div>\n",
       "<style scoped>\n",
       "    .dataframe tbody tr th:only-of-type {\n",
       "        vertical-align: middle;\n",
       "    }\n",
       "\n",
       "    .dataframe tbody tr th {\n",
       "        vertical-align: top;\n",
       "    }\n",
       "\n",
       "    .dataframe thead th {\n",
       "        text-align: right;\n",
       "    }\n",
       "</style>\n",
       "<table border=\"1\" class=\"dataframe\">\n",
       "  <thead>\n",
       "    <tr style=\"text-align: right;\">\n",
       "      <th></th>\n",
       "      <th>Unnamed: 0</th>\n",
       "      <th>Chr</th>\n",
       "      <th>Position</th>\n",
       "      <th>Reference</th>\n",
       "      <th>Mutation</th>\n",
       "      <th>Gene_symbol</th>\n",
       "      <th>Pathogenicity_Score</th>\n",
       "      <th>APOGEE2_probability</th>\n",
       "    </tr>\n",
       "  </thead>\n",
       "  <tbody>\n",
       "    <tr>\n",
       "      <th>0</th>\n",
       "      <td>0</td>\n",
       "      <td>chrM</td>\n",
       "      <td>3307</td>\n",
       "      <td>A</td>\n",
       "      <td>G</td>\n",
       "      <td>MT-ND1</td>\n",
       "      <td>0.317619</td>\n",
       "      <td>0.174811</td>\n",
       "    </tr>\n",
       "    <tr>\n",
       "      <th>1</th>\n",
       "      <td>1</td>\n",
       "      <td>chrM</td>\n",
       "      <td>3307</td>\n",
       "      <td>A</td>\n",
       "      <td>T</td>\n",
       "      <td>MT-ND1</td>\n",
       "      <td>0.314750</td>\n",
       "      <td>0.170058</td>\n",
       "    </tr>\n",
       "    <tr>\n",
       "      <th>2</th>\n",
       "      <td>2</td>\n",
       "      <td>chrM</td>\n",
       "      <td>3307</td>\n",
       "      <td>A</td>\n",
       "      <td>C</td>\n",
       "      <td>MT-ND1</td>\n",
       "      <td>0.314735</td>\n",
       "      <td>0.170032</td>\n",
       "    </tr>\n",
       "    <tr>\n",
       "      <th>3</th>\n",
       "      <td>3</td>\n",
       "      <td>chrM</td>\n",
       "      <td>3308</td>\n",
       "      <td>T</td>\n",
       "      <td>C</td>\n",
       "      <td>MT-ND1</td>\n",
       "      <td>0.327858</td>\n",
       "      <td>0.192367</td>\n",
       "    </tr>\n",
       "    <tr>\n",
       "      <th>4</th>\n",
       "      <td>4</td>\n",
       "      <td>chrM</td>\n",
       "      <td>3308</td>\n",
       "      <td>T</td>\n",
       "      <td>A</td>\n",
       "      <td>MT-ND1</td>\n",
       "      <td>0.424883</td>\n",
       "      <td>0.394639</td>\n",
       "    </tr>\n",
       "  </tbody>\n",
       "</table>\n",
       "</div>"
      ],
      "text/plain": [
       "   Unnamed: 0   Chr  Position Reference Mutation Gene_symbol  \\\n",
       "0           0  chrM      3307         A        G      MT-ND1   \n",
       "1           1  chrM      3307         A        T      MT-ND1   \n",
       "2           2  chrM      3307         A        C      MT-ND1   \n",
       "3           3  chrM      3308         T        C      MT-ND1   \n",
       "4           4  chrM      3308         T        A      MT-ND1   \n",
       "\n",
       "   Pathogenicity_Score  APOGEE2_probability  \n",
       "0             0.317619             0.174811  \n",
       "1             0.314750             0.170058  \n",
       "2             0.314735             0.170032  \n",
       "3             0.327858             0.192367  \n",
       "4             0.424883             0.394639  "
      ]
     },
     "execution_count": 9,
     "metadata": {},
     "output_type": "execute_result"
    }
   ],
   "source": [
    "apg.head()"
   ]
  },
  {
   "cell_type": "code",
   "execution_count": 12,
   "id": "184dfab1-a5f0-475b-b79f-866a80e28f5e",
   "metadata": {},
   "outputs": [
    {
     "data": {
      "text/html": [
       "<div>\n",
       "<style scoped>\n",
       "    .dataframe tbody tr th:only-of-type {\n",
       "        vertical-align: middle;\n",
       "    }\n",
       "\n",
       "    .dataframe tbody tr th {\n",
       "        vertical-align: top;\n",
       "    }\n",
       "\n",
       "    .dataframe thead th {\n",
       "        text-align: right;\n",
       "    }\n",
       "</style>\n",
       "<table border=\"1\" class=\"dataframe\">\n",
       "  <thead>\n",
       "    <tr style=\"text-align: right;\">\n",
       "      <th></th>\n",
       "      <th>Position</th>\n",
       "      <th>Reference</th>\n",
       "      <th>Mutation</th>\n",
       "      <th>Consequence</th>\n",
       "      <th>Pathogenicity_Score</th>\n",
       "    </tr>\n",
       "  </thead>\n",
       "  <tbody>\n",
       "    <tr>\n",
       "      <th>9915</th>\n",
       "      <td>3307</td>\n",
       "      <td>A</td>\n",
       "      <td>T</td>\n",
       "      <td>start_lost</td>\n",
       "      <td>0.7</td>\n",
       "    </tr>\n",
       "    <tr>\n",
       "      <th>9916</th>\n",
       "      <td>3307</td>\n",
       "      <td>A</td>\n",
       "      <td>C</td>\n",
       "      <td>start_lost</td>\n",
       "      <td>0.7</td>\n",
       "    </tr>\n",
       "    <tr>\n",
       "      <th>9917</th>\n",
       "      <td>3307</td>\n",
       "      <td>A</td>\n",
       "      <td>G</td>\n",
       "      <td>start_lost</td>\n",
       "      <td>0.7</td>\n",
       "    </tr>\n",
       "    <tr>\n",
       "      <th>9918</th>\n",
       "      <td>3308</td>\n",
       "      <td>T</td>\n",
       "      <td>C</td>\n",
       "      <td>start_lost</td>\n",
       "      <td>0.7</td>\n",
       "    </tr>\n",
       "    <tr>\n",
       "      <th>9919</th>\n",
       "      <td>3308</td>\n",
       "      <td>T</td>\n",
       "      <td>A</td>\n",
       "      <td>start_lost</td>\n",
       "      <td>0.7</td>\n",
       "    </tr>\n",
       "  </tbody>\n",
       "</table>\n",
       "</div>"
      ],
      "text/plain": [
       "      Position Reference Mutation Consequence  Pathogenicity_Score\n",
       "9915      3307         A        T  start_lost                  0.7\n",
       "9916      3307         A        C  start_lost                  0.7\n",
       "9917      3307         A        G  start_lost                  0.7\n",
       "9918      3308         T        C  start_lost                  0.7\n",
       "9919      3308         T        A  start_lost                  0.7"
      ]
     },
     "execution_count": 12,
     "metadata": {},
     "output_type": "execute_result"
    }
   ],
   "source": [
    "###Subset MLS table to positions only found in APOGEE\n",
    "\n",
    "mls=mls[mls['Position'].isin(apg['Position'])]\n",
    "\n",
    "mls.head()"
   ]
  },
  {
   "cell_type": "code",
   "execution_count": 14,
   "id": "9d58a8ec-81ce-4965-9708-a8cd58905bd1",
   "metadata": {},
   "outputs": [
    {
     "data": {
      "text/plain": [
       "27309"
      ]
     },
     "execution_count": 14,
     "metadata": {},
     "output_type": "execute_result"
    }
   ],
   "source": [
    "len(mls) #mls has exactly 9103 * 3 variants, apg likely does not have every mutation per position"
   ]
  },
  {
   "cell_type": "code",
   "execution_count": 15,
   "id": "cf402d21-f13c-455c-8fdd-49c4358d7482",
   "metadata": {},
   "outputs": [
    {
     "data": {
      "text/plain": [
       "24190"
      ]
     },
     "execution_count": 15,
     "metadata": {},
     "output_type": "execute_result"
    }
   ],
   "source": [
    "len(apg)"
   ]
  },
  {
   "cell_type": "code",
   "execution_count": 17,
   "id": "df675c50-457c-4c3e-913b-df03e073b64d",
   "metadata": {},
   "outputs": [
    {
     "data": {
      "text/plain": [
       "9103"
      ]
     },
     "execution_count": 17,
     "metadata": {},
     "output_type": "execute_result"
    }
   ],
   "source": [
    "len(mls['Position'].unique())"
   ]
  },
  {
   "cell_type": "code",
   "execution_count": 18,
   "id": "aacfca70-0c58-4ce8-b9e5-343dae4b41cb",
   "metadata": {},
   "outputs": [
    {
     "data": {
      "text/plain": [
       "9103"
      ]
     },
     "execution_count": 18,
     "metadata": {},
     "output_type": "execute_result"
    }
   ],
   "source": [
    "len(apg['Position'].unique())"
   ]
  },
  {
   "cell_type": "code",
   "execution_count": 23,
   "id": "a2a75afd-b80b-4dc3-b28c-4a997ae2884f",
   "metadata": {},
   "outputs": [
    {
     "data": {
      "text/plain": [
       "Reference\n",
       "C    7062\n",
       "T    6917\n",
       "A    6865\n",
       "G    3346\n",
       "Name: count, dtype: int64"
      ]
     },
     "execution_count": 23,
     "metadata": {},
     "output_type": "execute_result"
    }
   ],
   "source": [
    "apg['Reference'].value_counts()"
   ]
  },
  {
   "cell_type": "code",
   "execution_count": 24,
   "id": "dc809336-575d-41ec-adec-80e423966aed",
   "metadata": {},
   "outputs": [
    {
     "data": {
      "text/plain": [
       "Reference\n",
       "C    8373\n",
       "A    7653\n",
       "T    7596\n",
       "G    3687\n",
       "Name: count, dtype: int64"
      ]
     },
     "execution_count": 24,
     "metadata": {},
     "output_type": "execute_result"
    }
   ],
   "source": [
    "mls['Reference'].value_counts()"
   ]
  },
  {
   "cell_type": "code",
   "execution_count": 25,
   "id": "4351f8de-b0a6-470e-8cc5-9a4ee4fe1ec7",
   "metadata": {},
   "outputs": [],
   "source": [
    "###Save MLS lookup table\n",
    "\n",
    "mls.to_csv('MLS_score_lookup_table_subset.csv')"
   ]
  }
 ],
 "metadata": {
  "kernelspec": {
   "display_name": "Python 3 (ipykernel)",
   "language": "python",
   "name": "python3"
  },
  "language_info": {
   "codemirror_mode": {
    "name": "ipython",
    "version": 3
   },
   "file_extension": ".py",
   "mimetype": "text/x-python",
   "name": "python",
   "nbconvert_exporter": "python",
   "pygments_lexer": "ipython3",
   "version": "3.12.0"
  }
 },
 "nbformat": 4,
 "nbformat_minor": 5
}
